{
 "cells": [
  {
   "cell_type": "code",
   "execution_count": 54,
   "id": "initial_id",
   "metadata": {
    "collapsed": true,
    "ExecuteTime": {
     "end_time": "2024-01-19T06:33:56.796017Z",
     "start_time": "2024-01-19T06:33:56.784649Z"
    }
   },
   "outputs": [],
   "source": [
    "from pyspark.sql import SparkSession\n",
    "from pyspark.sql.functions import col, expr, rank, countDistinct, count\n",
    "from pyspark.sql.window import Window\n",
    "from pyspark.ml.recommendation import ALS\n",
    "from pyspark.ml.evaluation import RegressionEvaluator\n",
    "from pyspark.ml.feature import StringIndexer\n",
    "from pyspark.ml.tuning import TrainValidationSplit, ParamGridBuilder, CrossValidator\n",
    "import pandas as pd"
   ]
  },
  {
   "cell_type": "code",
   "execution_count": 55,
   "id": "c3eb503a8a5fdde9",
   "metadata": {
    "collapsed": false,
    "ExecuteTime": {
     "end_time": "2024-01-19T06:33:57.835854Z",
     "start_time": "2024-01-19T06:33:57.832180Z"
    }
   },
   "outputs": [],
   "source": [
    "spark = SparkSession.builder.appName('tourism-destination').getOrCreate()"
   ]
  },
  {
   "cell_type": "code",
   "execution_count": 56,
   "id": "a068e5109cb610b6",
   "metadata": {
    "collapsed": false,
    "ExecuteTime": {
     "end_time": "2024-01-19T06:33:58.998809Z",
     "start_time": "2024-01-19T06:33:58.848005Z"
    }
   },
   "outputs": [
    {
     "name": "stdout",
     "output_type": "stream",
     "text": [
      "-RECORD 0------------\n",
      " User_Id       | 1   \n",
      " Place_Id      | 179 \n",
      " Place_Ratings | 3   \n",
      "-RECORD 1------------\n",
      " User_Id       | 1   \n",
      " Place_Id      | 344 \n",
      " Place_Ratings | 2   \n",
      "-RECORD 2------------\n",
      " User_Id       | 1   \n",
      " Place_Id      | 5   \n",
      " Place_Ratings | 5   \n",
      "-RECORD 3------------\n",
      " User_Id       | 1   \n",
      " Place_Id      | 373 \n",
      " Place_Ratings | 3   \n",
      "-RECORD 4------------\n",
      " User_Id       | 1   \n",
      " Place_Id      | 101 \n",
      " Place_Ratings | 4   \n",
      "-RECORD 5------------\n",
      " User_Id       | 1   \n",
      " Place_Id      | 312 \n",
      " Place_Ratings | 2   \n",
      "-RECORD 6------------\n",
      " User_Id       | 1   \n",
      " Place_Id      | 258 \n",
      " Place_Ratings | 5   \n",
      "-RECORD 7------------\n",
      " User_Id       | 1   \n",
      " Place_Id      | 20  \n",
      " Place_Ratings | 4   \n",
      "-RECORD 8------------\n",
      " User_Id       | 1   \n",
      " Place_Id      | 154 \n",
      " Place_Ratings | 2   \n",
      "-RECORD 9------------\n",
      " User_Id       | 1   \n",
      " Place_Id      | 393 \n",
      " Place_Ratings | 5   \n",
      "-RECORD 10-----------\n",
      " User_Id       | 1   \n",
      " Place_Id      | 103 \n",
      " Place_Ratings | 3   \n",
      "-RECORD 11-----------\n",
      " User_Id       | 1   \n",
      " Place_Id      | 208 \n",
      " Place_Ratings | 5   \n",
      "-RECORD 12-----------\n",
      " User_Id       | 1   \n",
      " Place_Id      | 89  \n",
      " Place_Ratings | 3   \n",
      "-RECORD 13-----------\n",
      " User_Id       | 1   \n",
      " Place_Id      | 405 \n",
      " Place_Ratings | 5   \n",
      "-RECORD 14-----------\n",
      " User_Id       | 1   \n",
      " Place_Id      | 41  \n",
      " Place_Ratings | 5   \n",
      "-RECORD 15-----------\n",
      " User_Id       | 1   \n",
      " Place_Id      | 336 \n",
      " Place_Ratings | 4   \n",
      "-RECORD 16-----------\n",
      " User_Id       | 1   \n",
      " Place_Id      | 67  \n",
      " Place_Ratings | 4   \n",
      "-RECORD 17-----------\n",
      " User_Id       | 1   \n",
      " Place_Id      | 292 \n",
      " Place_Ratings | 3   \n",
      "-RECORD 18-----------\n",
      " User_Id       | 1   \n",
      " Place_Id      | 222 \n",
      " Place_Ratings | 3   \n",
      "-RECORD 19-----------\n",
      " User_Id       | 1   \n",
      " Place_Id      | 76  \n",
      " Place_Ratings | 2   \n",
      "only showing top 20 rows\n"
     ]
    }
   ],
   "source": [
    "df_landing = pd.read_csv('dataset/tourism_rating.csv')\n",
    "# 将缺失值替换为平均值\n",
    "spark_df_landing =  spark.createDataFrame(df_landing) \n",
    "spark_df_landing.show(vertical=True)"
   ]
  },
  {
   "cell_type": "code",
   "execution_count": 58,
   "id": "f20c5a634b832243",
   "metadata": {
    "collapsed": false,
    "ExecuteTime": {
     "end_time": "2024-01-19T06:34:04.472408Z",
     "start_time": "2024-01-19T06:34:04.453268Z"
    }
   },
   "outputs": [],
   "source": [
    "df_rec = spark_df_landing.select('User_Id', 'Place_Id', 'Place_Ratings').withColumnRenamed(\"User_Id\",\"userId\")\\\n",
    "                                                                 .withColumnRenamed(\"Place_Id\",\"itemId\")\\\n",
    "                                                                 .withColumnRenamed(\"Place_Ratings\",\"rating\")\n",
    "df_rec = df_rec.orderBy(\"userId\", \"itemId\")"
   ]
  },
  {
   "cell_type": "code",
   "execution_count": 51,
   "id": "a1b626e9431da195",
   "metadata": {
    "collapsed": false,
    "ExecuteTime": {
     "end_time": "2024-01-19T06:33:00.760072Z",
     "start_time": "2024-01-19T06:33:00.745440Z"
    }
   },
   "outputs": [],
   "source": [
    "popularity_df = df_rec.groupBy('itemId') \\\n",
    "                 .agg(count('*').alias('popularity')) \\\n",
    "                 .orderBy(col('popularity').desc())"
   ]
  },
  {
   "cell_type": "code",
   "execution_count": 52,
   "id": "acb218ead46c4e48",
   "metadata": {
    "collapsed": false,
    "ExecuteTime": {
     "end_time": "2024-01-19T06:33:01.280629Z",
     "start_time": "2024-01-19T06:33:01.270260Z"
    }
   },
   "outputs": [],
   "source": [
    "user_window = Window.partitionBy(\"userId\").orderBy(col(\"itemId\").desc())\n",
    "df_rec = df_rec.withColumn(\"num_items\", expr(\"count(*) over (partition by userId)\"))\n"
   ]
  },
  {
   "cell_type": "code",
   "execution_count": 53,
   "id": "ec277294e67d01c6",
   "metadata": {
    "collapsed": false,
    "ExecuteTime": {
     "end_time": "2024-01-19T06:33:02.940004Z",
     "start_time": "2024-01-19T06:33:02.032858Z"
    }
   },
   "outputs": [],
   "source": [
    "# For example, 30% of items will be masked\n",
    "percent_items_to_mask = 0.3\n",
    "# Determine the number of items to mask for each user\n",
    "df_rec_final = df_rec.withColumn(\"num_items_to_mask\", (col(\"num_items\") * percent_items_to_mask).cast(\"int\"))\n",
    "# Masks items for each user\n",
    "df_rec_final = df_rec_final.withColumn(\"item_rank\", rank().over(user_window))\n",
    "\n",
    "# Create a StringIndexer model to index the user ID column\n",
    "indexer_user = StringIndexer(inputCol='userId', outputCol='userIndex').setHandleInvalid(\"keep\")\n",
    "indexer_item = StringIndexer(inputCol='itemId', outputCol='itemIndex').setHandleInvalid(\"keep\")\n",
    "\n",
    "# Fit the indexer model to the data and transform the DataFrame\n",
    "df_rec_final = indexer_user.fit(df_rec_final).transform(df_rec_final)\n",
    "df_rec_final = indexer_item.fit(df_rec_final).transform(df_rec_final)\n",
    "\n",
    "# Convert the userIndex column to integer type\n",
    "df_rec_final = df_rec_final.withColumn('userIndex', df_rec_final['userIndex'].cast('integer'))\\\n",
    "               .withColumn('itemIndex', df_rec_final['itemIndex'].cast('integer'))\n",
    "\n",
    "train_df_rec = df_rec_final.filter(col(\"item_rank\") > col(\"num_items_to_mask\"))\n",
    "test_df_rec = df_rec_final.filter(col(\"item_rank\") <= col(\"num_items_to_mask\"))"
   ]
  },
  {
   "cell_type": "code",
   "execution_count": 33,
   "id": "14758de8ac1c0e4c",
   "metadata": {
    "collapsed": false,
    "ExecuteTime": {
     "end_time": "2024-01-19T06:30:19.602714Z",
     "start_time": "2024-01-19T06:30:19.263811Z"
    }
   },
   "outputs": [
    {
     "name": "stdout",
     "output_type": "stream",
     "text": [
      "+------+------+------+---------+-----------------+---------+---------+---------+\n",
      "|userId|itemId|rating|num_items|num_items_to_mask|item_rank|userIndex|itemIndex|\n",
      "+------+------+------+---------+-----------------+---------+---------+---------+\n",
      "|     1|   307|     4|       30|                9|       10|      199|       82|\n",
      "|     1|   302|     2|       30|                9|       11|      199|      137|\n",
      "|     1|   292|     3|       30|                9|       12|      199|      314|\n",
      "|     1|   265|     5|       30|                9|       13|      199|       21|\n",
      "|     1|   258|     5|       30|                9|       14|      199|      159|\n",
      "|     1|   246|     4|       30|                9|       15|      199|       66|\n",
      "|     1|   222|     3|       30|                9|       16|      199|      336|\n",
      "|     1|   208|     5|       30|                9|       17|      199|        4|\n",
      "|     1|   179|     3|       30|                9|       18|      199|      154|\n",
      "|     1|   154|     2|       30|                9|       19|      199|       95|\n",
      "|     1|   103|     3|       30|                9|       20|      199|       76|\n",
      "|     1|   101|     4|       30|                9|       21|      199|      148|\n",
      "|     1|    89|     3|       30|                9|       22|      199|       30|\n",
      "|     1|    76|     2|       30|                9|       23|      199|       94|\n",
      "|     1|    67|     4|       30|                9|       24|      199|      354|\n",
      "|     1|    48|     2|       30|                9|       25|      199|      326|\n",
      "|     1|    41|     5|       30|                9|       26|      199|       90|\n",
      "|     1|    21|     2|       30|                9|       27|      199|      129|\n",
      "|     1|    20|     4|       30|                9|       28|      199|      335|\n",
      "|     1|    15|     3|       30|                9|       29|      199|      125|\n",
      "+------+------+------+---------+-----------------+---------+---------+---------+\n"
     ]
    }
   ],
   "source": [
    "train_df_rec.show()"
   ]
  },
  {
   "cell_type": "code",
   "execution_count": 34,
   "id": "1b1b8b431670a32e",
   "metadata": {
    "collapsed": false,
    "ExecuteTime": {
     "end_time": "2024-01-19T06:31:24.839685Z",
     "start_time": "2024-01-19T06:30:19.603718Z"
    }
   },
   "outputs": [
    {
     "name": "stderr",
     "output_type": "stream",
     "text": [
      "                                                                                \r"
     ]
    },
    {
     "name": "stdout",
     "output_type": "stream",
     "text": [
      "rank:  1\n",
      "MaxIter:  20\n",
      "RegParam:  0.15\n"
     ]
    }
   ],
   "source": [
    "# Configure the ALS model\n",
    "als = ALS(userCol='userIndex', itemCol='itemIndex', ratingCol='rating',\n",
    "          coldStartStrategy='drop', nonnegative=True)\n",
    "\n",
    "\n",
    "param_grid = ParamGridBuilder()\\\n",
    "             .addGrid(als.rank, [1, 20, 30])\\\n",
    "             .addGrid(als.maxIter, [20])\\\n",
    "             .addGrid(als.regParam, [.05, .15])\\\n",
    "             .build()\n",
    "evaluator = RegressionEvaluator(metricName='rmse', labelCol='rating', predictionCol='prediction')\n",
    "\n",
    "cv = CrossValidator(\n",
    "        estimator=als,\n",
    "        estimatorParamMaps=param_grid,\n",
    "        evaluator=evaluator,\n",
    "        numFolds=3)\n",
    "\n",
    "model = cv.fit(train_df_rec)\n",
    "\n",
    "best_model = model.bestModel\n",
    "print('rank: ', best_model.rank)\n",
    "print('MaxIter: ', best_model._java_obj.parent().getMaxIter())\n",
    "print('RegParam: ', best_model._java_obj.parent().getRegParam())"
   ]
  },
  {
   "cell_type": "code",
   "execution_count": 35,
   "id": "cf96a2c8acdfe816",
   "metadata": {
    "collapsed": false,
    "ExecuteTime": {
     "end_time": "2024-01-19T06:31:26.811276Z",
     "start_time": "2024-01-19T06:31:24.840022Z"
    }
   },
   "outputs": [
    {
     "name": "stdout",
     "output_type": "stream",
     "text": [
      "Root Mean Squared Error (RMSE): 1.6368707225124695\n"
     ]
    }
   ],
   "source": [
    "model = als.fit(train_df_rec)\n",
    "\n",
    "# Generate predictions on the test data\n",
    "predictions = best_model.transform(test_df_rec)\n",
    "predictions = predictions.withColumn(\"prediction\", expr(\"CASE WHEN prediction < 1 THEN 1 WHEN prediction > 5 THEN 5 ELSE prediction END\"))\n",
    "\n",
    "evaluator = RegressionEvaluator(metricName='rmse', labelCol='rating', predictionCol='prediction')\n",
    "rmse = evaluator.evaluate(predictions)\n",
    "print(f'Root Mean Squared Error (RMSE): {rmse}')"
   ]
  },
  {
   "cell_type": "code",
   "execution_count": 36,
   "id": "1e4fda00cdfb2275",
   "metadata": {
    "collapsed": false,
    "ExecuteTime": {
     "end_time": "2024-01-19T06:31:28.145328Z",
     "start_time": "2024-01-19T06:31:26.813161Z"
    }
   },
   "outputs": [
    {
     "name": "stderr",
     "output_type": "stream",
     "text": [
      "                                                                                \r"
     ]
    }
   ],
   "source": [
    "from pyspark.mllib.evaluation import RankingMetrics\n",
    "from pyspark.sql.functions import col, collect_list\n",
    "\n",
    "# Convert the predictions DataFrame to include all predictions per user\n",
    "# Generate top-k recommendations for each user\n",
    "userRecs = best_model.recommendForAllUsers(100)  # Top-100 recommendations for each user\n",
    "\n",
    "# Prepare the input for RankingMetrics\n",
    "user_ground_truth = test_df_rec.groupby('userIndex').agg(collect_list('itemIndex').alias('ground_truth_items'))\n",
    "user_train_items = train_df_rec.groupby('userIndex').agg(collect_list('itemIndex').alias('train_items'))\n",
    "\n",
    "# Join the recommendations and ground truth data on the user ID\n",
    "user_eval = userRecs.join(user_ground_truth, on='userIndex').join(user_train_items, on='userIndex') \\\n",
    "    .select('userIndex', 'recommendations.itemIndex', 'ground_truth_items', 'train_items', 'recommendations.rating')\n",
    "user_eval = user_eval.toPandas()\n",
    "user_eval['itemIndex_filtered'] = user_eval.apply(lambda x:[b for (b,z) in zip(x.itemIndex, x.rating) if b not in x.train_items], axis=1)\n",
    "user_eval['rating_filtered'] = user_eval.apply(lambda x:[z for (b,z) in zip(x.itemIndex, x.rating) if b not in x.train_items], axis=1)"
   ]
  },
  {
   "cell_type": "code",
   "execution_count": 37,
   "id": "765b57b9f2e6eb8",
   "metadata": {
    "collapsed": false,
    "ExecuteTime": {
     "end_time": "2024-01-19T06:31:28.167963Z",
     "start_time": "2024-01-19T06:31:28.146524Z"
    }
   },
   "outputs": [
    {
     "data": {
      "text/plain": "     userIndex                                          itemIndex  \\\n0            0  [70, 380, 321, 378, 377, 203, 379, 282, 280, 2...   \n1            1  [70, 380, 321, 378, 377, 203, 379, 282, 280, 2...   \n2            2  [70, 380, 321, 378, 377, 203, 379, 282, 280, 2...   \n3            3  [70, 380, 321, 378, 377, 203, 379, 282, 280, 2...   \n4            4  [70, 380, 321, 378, 377, 203, 379, 282, 280, 2...   \n..         ...                                                ...   \n295        295  [70, 380, 321, 378, 377, 203, 379, 282, 280, 2...   \n296        296  [70, 380, 321, 378, 377, 203, 379, 282, 280, 2...   \n297        297  [70, 380, 321, 378, 377, 203, 379, 282, 280, 2...   \n298        298  [70, 380, 321, 378, 377, 203, 379, 282, 280, 2...   \n299        299  [70, 380, 321, 378, 377, 203, 379, 282, 280, 2...   \n\n                                    ground_truth_items  \\\n0    [91, 29, 397, 209, 395, 433, 429, 284, 283, 27...   \n1    [286, 53, 411, 24, 348, 420, 393, 168, 104, 16...   \n2    [243, 115, 91, 140, 171, 170, 204, 43, 281, 13...   \n3    [142, 289, 12, 286, 88, 394, 374, 168, 200, 1,...   \n4    [244, 142, 292, 54, 324, 112, 53, 28, 171, 283...   \n..                                                 ...   \n295                        [2, 74, 349, 140, 169, 137]   \n296                      [286, 413, 380, 53, 420, 394]   \n297                        [74, 73, 421, 325, 70, 420]   \n298                        [243, 91, 54, 412, 203, 84]   \n299                      [74, 174, 242, 172, 280, 103]   \n\n                                           train_items  \\\n0    [165, 164, 102, 426, 162, 21, 339, 67, 159, 13...   \n1    [366, 267, 196, 195, 265, 265, 190, 36, 36, 0,...   \n2    [51, 198, 371, 427, 164, 102, 99, 195, 194, 65...   \n3    [337, 130, 311, 363, 64, 64, 230, 35, 261, 261...   \n4    [374, 13, 167, 372, 9, 197, 162, 418, 6, 192, ...   \n..                                                 ...   \n295  [390, 134, 158, 7, 425, 365, 97, 263, 62, 34, ...   \n296  [200, 50, 365, 98, 263, 156, 127, 154, 79, 385...   \n297  [23, 103, 99, 20, 423, 0, 330, 303, 77, 149, 1...   \n298  [372, 166, 426, 161, 99, 266, 192, 97, 261, 30...   \n299  [368, 234, 37, 195, 333, 62, 308, 329, 385, 30...   \n\n                                                rating  \\\n0    [5.2651777267456055, 5.208676815032959, 5.1148...   \n1    [3.907944917678833, 3.8660085201263428, 3.7963...   \n2    [5.067782402038574, 5.013399600982666, 4.92312...   \n3    [5.758134365081787, 5.696343421936035, 5.59377...   \n4    [4.4151129722595215, 4.367733955383301, 4.2890...   \n..                                                 ...   \n295  [3.515010118484497, 3.477290153503418, 3.41467...   \n296  [5.280454635620117, 5.223789691925049, 5.12972...   \n297  [5.119409084320068, 5.064472198486328, 4.97327...   \n298  [4.828000068664551, 4.776190280914307, 4.69018...   \n299  [5.205059051513672, 5.149202823638916, 5.05648...   \n\n                                    itemIndex_filtered  \\\n0    [70, 380, 321, 378, 377, 203, 379, 282, 280, 2...   \n1    [70, 380, 321, 378, 377, 203, 379, 282, 280, 2...   \n2    [70, 380, 321, 378, 377, 203, 379, 282, 280, 2...   \n3    [70, 380, 321, 378, 377, 203, 379, 282, 280, 2...   \n4    [70, 380, 321, 378, 377, 203, 379, 282, 280, 2...   \n..                                                 ...   \n295  [70, 380, 321, 378, 377, 203, 379, 282, 280, 2...   \n296  [70, 380, 321, 378, 377, 203, 379, 282, 280, 2...   \n297  [70, 380, 321, 378, 377, 203, 379, 282, 280, 2...   \n298  [70, 380, 321, 378, 377, 203, 379, 282, 280, 2...   \n299  [70, 380, 321, 378, 377, 203, 379, 282, 280, 2...   \n\n                                       rating_filtered  \n0    [5.2651777267456055, 5.208676815032959, 5.1148...  \n1    [3.907944917678833, 3.8660085201263428, 3.7963...  \n2    [5.067782402038574, 5.013399600982666, 4.92312...  \n3    [5.758134365081787, 5.696343421936035, 5.59377...  \n4    [4.4151129722595215, 4.367733955383301, 4.2890...  \n..                                                 ...  \n295  [3.515010118484497, 3.477290153503418, 3.41467...  \n296  [5.280454635620117, 5.223789691925049, 5.12972...  \n297  [5.119409084320068, 5.064472198486328, 4.97327...  \n298  [4.828000068664551, 4.776190280914307, 4.69018...  \n299  [5.205059051513672, 5.149202823638916, 5.05648...  \n\n[300 rows x 7 columns]",
      "text/html": "<div>\n<style scoped>\n    .dataframe tbody tr th:only-of-type {\n        vertical-align: middle;\n    }\n\n    .dataframe tbody tr th {\n        vertical-align: top;\n    }\n\n    .dataframe thead th {\n        text-align: right;\n    }\n</style>\n<table border=\"1\" class=\"dataframe\">\n  <thead>\n    <tr style=\"text-align: right;\">\n      <th></th>\n      <th>userIndex</th>\n      <th>itemIndex</th>\n      <th>ground_truth_items</th>\n      <th>train_items</th>\n      <th>rating</th>\n      <th>itemIndex_filtered</th>\n      <th>rating_filtered</th>\n    </tr>\n  </thead>\n  <tbody>\n    <tr>\n      <th>0</th>\n      <td>0</td>\n      <td>[70, 380, 321, 378, 377, 203, 379, 282, 280, 2...</td>\n      <td>[91, 29, 397, 209, 395, 433, 429, 284, 283, 27...</td>\n      <td>[165, 164, 102, 426, 162, 21, 339, 67, 159, 13...</td>\n      <td>[5.2651777267456055, 5.208676815032959, 5.1148...</td>\n      <td>[70, 380, 321, 378, 377, 203, 379, 282, 280, 2...</td>\n      <td>[5.2651777267456055, 5.208676815032959, 5.1148...</td>\n    </tr>\n    <tr>\n      <th>1</th>\n      <td>1</td>\n      <td>[70, 380, 321, 378, 377, 203, 379, 282, 280, 2...</td>\n      <td>[286, 53, 411, 24, 348, 420, 393, 168, 104, 16...</td>\n      <td>[366, 267, 196, 195, 265, 265, 190, 36, 36, 0,...</td>\n      <td>[3.907944917678833, 3.8660085201263428, 3.7963...</td>\n      <td>[70, 380, 321, 378, 377, 203, 379, 282, 280, 2...</td>\n      <td>[3.907944917678833, 3.8660085201263428, 3.7963...</td>\n    </tr>\n    <tr>\n      <th>2</th>\n      <td>2</td>\n      <td>[70, 380, 321, 378, 377, 203, 379, 282, 280, 2...</td>\n      <td>[243, 115, 91, 140, 171, 170, 204, 43, 281, 13...</td>\n      <td>[51, 198, 371, 427, 164, 102, 99, 195, 194, 65...</td>\n      <td>[5.067782402038574, 5.013399600982666, 4.92312...</td>\n      <td>[70, 380, 321, 378, 377, 203, 379, 282, 280, 2...</td>\n      <td>[5.067782402038574, 5.013399600982666, 4.92312...</td>\n    </tr>\n    <tr>\n      <th>3</th>\n      <td>3</td>\n      <td>[70, 380, 321, 378, 377, 203, 379, 282, 280, 2...</td>\n      <td>[142, 289, 12, 286, 88, 394, 374, 168, 200, 1,...</td>\n      <td>[337, 130, 311, 363, 64, 64, 230, 35, 261, 261...</td>\n      <td>[5.758134365081787, 5.696343421936035, 5.59377...</td>\n      <td>[70, 380, 321, 378, 377, 203, 379, 282, 280, 2...</td>\n      <td>[5.758134365081787, 5.696343421936035, 5.59377...</td>\n    </tr>\n    <tr>\n      <th>4</th>\n      <td>4</td>\n      <td>[70, 380, 321, 378, 377, 203, 379, 282, 280, 2...</td>\n      <td>[244, 142, 292, 54, 324, 112, 53, 28, 171, 283...</td>\n      <td>[374, 13, 167, 372, 9, 197, 162, 418, 6, 192, ...</td>\n      <td>[4.4151129722595215, 4.367733955383301, 4.2890...</td>\n      <td>[70, 380, 321, 378, 377, 203, 379, 282, 280, 2...</td>\n      <td>[4.4151129722595215, 4.367733955383301, 4.2890...</td>\n    </tr>\n    <tr>\n      <th>...</th>\n      <td>...</td>\n      <td>...</td>\n      <td>...</td>\n      <td>...</td>\n      <td>...</td>\n      <td>...</td>\n      <td>...</td>\n    </tr>\n    <tr>\n      <th>295</th>\n      <td>295</td>\n      <td>[70, 380, 321, 378, 377, 203, 379, 282, 280, 2...</td>\n      <td>[2, 74, 349, 140, 169, 137]</td>\n      <td>[390, 134, 158, 7, 425, 365, 97, 263, 62, 34, ...</td>\n      <td>[3.515010118484497, 3.477290153503418, 3.41467...</td>\n      <td>[70, 380, 321, 378, 377, 203, 379, 282, 280, 2...</td>\n      <td>[3.515010118484497, 3.477290153503418, 3.41467...</td>\n    </tr>\n    <tr>\n      <th>296</th>\n      <td>296</td>\n      <td>[70, 380, 321, 378, 377, 203, 379, 282, 280, 2...</td>\n      <td>[286, 413, 380, 53, 420, 394]</td>\n      <td>[200, 50, 365, 98, 263, 156, 127, 154, 79, 385...</td>\n      <td>[5.280454635620117, 5.223789691925049, 5.12972...</td>\n      <td>[70, 380, 321, 378, 377, 203, 379, 282, 280, 2...</td>\n      <td>[5.280454635620117, 5.223789691925049, 5.12972...</td>\n    </tr>\n    <tr>\n      <th>297</th>\n      <td>297</td>\n      <td>[70, 380, 321, 378, 377, 203, 379, 282, 280, 2...</td>\n      <td>[74, 73, 421, 325, 70, 420]</td>\n      <td>[23, 103, 99, 20, 423, 0, 330, 303, 77, 149, 1...</td>\n      <td>[5.119409084320068, 5.064472198486328, 4.97327...</td>\n      <td>[70, 380, 321, 378, 377, 203, 379, 282, 280, 2...</td>\n      <td>[5.119409084320068, 5.064472198486328, 4.97327...</td>\n    </tr>\n    <tr>\n      <th>298</th>\n      <td>298</td>\n      <td>[70, 380, 321, 378, 377, 203, 379, 282, 280, 2...</td>\n      <td>[243, 91, 54, 412, 203, 84]</td>\n      <td>[372, 166, 426, 161, 99, 266, 192, 97, 261, 30...</td>\n      <td>[4.828000068664551, 4.776190280914307, 4.69018...</td>\n      <td>[70, 380, 321, 378, 377, 203, 379, 282, 280, 2...</td>\n      <td>[4.828000068664551, 4.776190280914307, 4.69018...</td>\n    </tr>\n    <tr>\n      <th>299</th>\n      <td>299</td>\n      <td>[70, 380, 321, 378, 377, 203, 379, 282, 280, 2...</td>\n      <td>[74, 174, 242, 172, 280, 103]</td>\n      <td>[368, 234, 37, 195, 333, 62, 308, 329, 385, 30...</td>\n      <td>[5.205059051513672, 5.149202823638916, 5.05648...</td>\n      <td>[70, 380, 321, 378, 377, 203, 379, 282, 280, 2...</td>\n      <td>[5.205059051513672, 5.149202823638916, 5.05648...</td>\n    </tr>\n  </tbody>\n</table>\n<p>300 rows × 7 columns</p>\n</div>"
     },
     "execution_count": 37,
     "metadata": {},
     "output_type": "execute_result"
    }
   ],
   "source": [
    "user_eval"
   ]
  },
  {
   "cell_type": "code",
   "execution_count": 59,
   "outputs": [
    {
     "name": "stderr",
     "output_type": "stream",
     "text": [
      "24/01/19 14:34:17 WARN MemoryManager: Total allocation exceeds 95.00% (1,020,054,720 bytes) of heap memory\n",
      "Scaling row group sizes to 95.00% for 8 writers\n"
     ]
    }
   ],
   "source": [
    "from pyspark.ml import Pipeline\n",
    "\n",
    "# using pipeline \n",
    "# Create StringIndexer stages\n",
    "indexer_user = StringIndexer(inputCol='userId', outputCol='userIndex').setHandleInvalid(\"keep\")\n",
    "indexer_item = StringIndexer(inputCol='itemId', outputCol='itemIndex').setHandleInvalid(\"keep\")\n",
    "# Create ALS model\n",
    "als = ALS(userCol='userIndex', itemCol='itemIndex', ratingCol='rating',\n",
    "          coldStartStrategy='drop', nonnegative=True)\n",
    "# Create stages for the pipeline\n",
    "stages = [indexer_user, indexer_item, als]\n",
    "# Create a pipeline with the defined stages\n",
    "pipeline = Pipeline(stages=stages)\n",
    "\n",
    "# Fit the pipeline to the training data\n",
    "pipeline_model = pipeline.fit(df_rec)\n",
    "pipeline_path = \"models/als_pipeline\"\n",
    "pipeline_model.save(pipeline_path)"
   ],
   "metadata": {
    "collapsed": false,
    "ExecuteTime": {
     "end_time": "2024-01-19T06:34:17.844790Z",
     "start_time": "2024-01-19T06:34:14.086423Z"
    }
   },
   "id": "393b95bc19d0e94f"
  },
  {
   "cell_type": "code",
   "execution_count": 60,
   "outputs": [
    {
     "name": "stdout",
     "output_type": "stream",
     "text": [
      "Root Mean Squared Error (RMSE): 0.7822967757116109\n"
     ]
    }
   ],
   "source": [
    "# Make predictions on the test data\n",
    "predictions = pipeline_model.transform(df_rec)\n",
    "predictions = predictions.withColumn(\"prediction\", expr(\"CASE WHEN prediction < 1 THEN 1 WHEN prediction > 5 THEN 5 ELSE prediction END\"))\n",
    "\n",
    "# Evaluate the model\n",
    "evaluator = RegressionEvaluator(metricName='rmse', labelCol='rating', predictionCol='prediction')\n",
    "rmse = evaluator.evaluate(predictions)\n",
    "print(f'Root Mean Squared Error (RMSE): {rmse}')"
   ],
   "metadata": {
    "collapsed": false,
    "ExecuteTime": {
     "end_time": "2024-01-19T06:34:43.527041Z",
     "start_time": "2024-01-19T06:34:42.946921Z"
    }
   },
   "id": "e7ce573a46316bd3"
  },
  {
   "cell_type": "code",
   "execution_count": 61,
   "outputs": [
    {
     "name": "stderr",
     "output_type": "stream",
     "text": [
      "                                                                                \r"
     ]
    },
    {
     "data": {
      "text/plain": "[399, 299, 249, 416, 95, 194, 250, 334, 341, 98]"
     },
     "execution_count": 61,
     "metadata": {},
     "output_type": "execute_result"
    }
   ],
   "source": [
    "# 根据用户 id 推荐 10 个景点\n",
    "user_id = 1\n",
    "user_recs = pipeline_model.stages[-1].recommendForAllUsers(10).filter(col('userIndex') == user_id).collect()\n",
    "user_recs = user_recs[0]['recommendations']\n",
    "user_recs = [i.itemIndex for i in user_recs]\n",
    "user_recs"
   ],
   "metadata": {
    "collapsed": false,
    "ExecuteTime": {
     "end_time": "2024-01-19T06:35:50.659668Z",
     "start_time": "2024-01-19T06:35:49.856003Z"
    }
   },
   "id": "6c315c0584c40a07"
  },
  {
   "cell_type": "code",
   "execution_count": 63,
   "outputs": [],
   "source": [
    "df = pd.read_csv('dataset/tours_truncated.csv')\n",
    "df[['location_id', 'display_name']].to_csv('dataset/tours.json', index=False)"
   ],
   "metadata": {
    "collapsed": false,
    "ExecuteTime": {
     "end_time": "2024-01-19T06:39:43.766144Z",
     "start_time": "2024-01-19T06:39:43.753807Z"
    }
   },
   "id": "df32922fbbc8b5c2"
  },
  {
   "cell_type": "code",
   "execution_count": 67,
   "outputs": [
    {
     "name": "stdout",
     "output_type": "stream",
     "text": [
      "{1: '黄花城长城', 2: '拉萨大昭寺', 3: '八角街', 4: '亚龙湾', 5: '古北水镇', 6: 'TUNTHEIN MR', 7: '中华恐龙园', 8: '广州大剧院', 9: '成都人民公园', 10: '拙政园', 11: '澳门旅游塔会展娱乐中心', 12: '西安钟楼', 13: '荐福寺小雁塔', 14: '夫子庙景区', 15: '香港动植物公园', 16: '三里屯太古里', 17: '客家土楼', 18: '滕王阁', 19: '华强北路商业区', 20: '人民广场', 21: '香港朗豪坊', 22: '三亚湾', 23: '栈桥', 24: '上海欢乐谷', 25: '中环海滨摩天轮', 26: '钟鼓楼', 27: '厦门菽庄花园', 28: '东川红土地', 29: '长隆水上乐园', 30: '国际金融中心一期', 31: '老龙头', 32: '中山路步行街', 33: '香港杜莎夫人蜡像馆', 34: '上海中华艺术宫', 35: '喜洲镇', 36: '月亮山', 37: '罗布林卡', 38: '长江', 39: '义乌国际商贸城', 40: '上海城隍庙', 41: '丹霞山地质公园', 42: '大连中山广场', 43: '安徽九华山', 44: '壶口瀑布', 45: '圣约翰座堂', 46: '维多利亚公园', 47: '厦门钢琴博物馆', 48: '山顶缆车', 49: '黄龙洞', 50: '北京大学', 51: '甘丹寺', 52: '凤凰虹桥', 53: '亚丁风景区', 54: '长白山天池', 55: '蜈支洲岛', 56: '昆明西山森林公园', 57: '圣索菲亚教堂', 58: '古文化街', 59: '中国茶叶博物馆', 60: '圣方济各圣堂', 61: '伏尔加庄园', 62: '六和塔', 63: '三亚大小洞天景区', 64: '车公庙', 65: '上环', 66: '植物园', 67: '银子岩景区', 68: '金光大道度假区', 69: '龙环葡韵住宅式博物馆', 70: '玫瑰圣母堂', 71: '厦门园林植物园', 72: '深圳世界之窗', 73: 'Happy Dragon Tour', 74: '议事亭前地', 75: '河坊街', 76: '五台山', 77: '妈阁庙', 78: '森林动物园', 79: '少林寺', 80: '奥林匹克森林公园', 81: '上海迪士尼乐园', 82: '卢廉若公园', 83: '开元寺', 84: '成都春熙路步行街', 85: '深圳东部华侨城', 86: '文武庙', 87: '麦理浩径', 88: '上海磁浮交通科技馆', 89: '白马寺', 90: '梧桐山', 91: '雷峰塔', 92: '安顺桥', 93: '屯溪老街', 94: '豫园老街', 95: '香港海洋公园', 96: '寒山寺', 97: '南京路', 98: '华清宫', 99: '黄花城水长城', 100: '1933老场坊', 101: '德天风景区', 102: '香港会议展览中心', 103: '解放碑广场', 104: '恭王府', 105: '西安鼓楼', 106: '索菲亚广场', 107: '花墟道', 108: '香港国际金融中心商场', 109: '玉渊潭公园', 110: '交河故城', 111: '天一广场', 112: '1881 Heritage', 113: '前门大街商业街', 114: '湾仔', 115: '潘家园旧货市场', 116: '大理古城', 117: '盘门', 118: '普达措国家公园', 119: '静安雕塑公园', 120: '静安寺', 121: '青岛天主教堂', 122: '千岛湖', 123: '丽江千古情景区', 124: '宽窄巷子', 125: '天涯海角', 126: '沪西大剧院', 127: '广东省博物馆新馆', 128: '海港城', 129: '洪崖洞', 130: '月牙泉风景名胜区', 131: '太湖鼋头渚', 132: '钟鼓楼广场', 133: '大炮台', 134: '武当山国家地质公园', 135: '太古广场', 136: '佛山岭南天地', 137: '广州中山大学', 138: '天山天池', 139: '避暑山庄', 140: '兰桂坊', 141: '深圳欢乐谷', 142: 'Beijing Airport Layover Tour', 143: '奥林匹克公园', 144: '珠海情侣路', 145: '锦里步行街', 146: '黑龙潭公园', 147: '三坊七巷和朱紫坊建筑群', 148: '延庆八达岭残长城', 149: '九龙城寨公园', 150: '黄鹤楼', 151: '北陵公园', 152: '澳门巴黎铁塔', 153: '民政总署大楼', 154: '长白山', 155: '氹仔村', 156: '亚太新阳服饰礼品市场', 157: '龙胜龙脊山', 158: '旺角', 159: 'M50创意园', 160: '黄大仙祠', 161: '珍珠滩瀑布', 162: '卡拉库里湖', 163: '越秀山', 164: '圆方广场', 165: 'Mary’s Xian Tours', 166: '青秀山', 167: '海豚湾', 168: '玉龙雪山冰川公园', 169: '田子坊', 170: '香山公园', 171: '武侯祠', 172: '上海新天地', 173: '武汉长江大桥', 174: '九龙城', 175: '五四广场', 176: '广汉三星堆博物馆', 177: '鸟巢(国家体育场)', 178: '东望洋炮台', 179: '香港國際七人欖球賽', 180: '张家界大峡谷', 181: '云南民族村', 182: '太古汇', 183: '浅水湾泳滩', 184: '铜锣湾', 185: '芦笛岩', 186: '西贡东郊野公园', 187: '漓江民俗风情园', 188: '北戴河夏日避暑胜地', 189: '鼓浪屿', 190: '纳木错', 191: '鸡鸣寺', 192: '北京首都博物馆', 193: '九寨沟民族艺术中心', 194: '龟山公园', 195: '天津之眼摩天轮', 196: '澳门博物馆', 197: '深水埗', 198: '武隆天坑三桥', 199: '山塘街', 200: '日坛公园', 201: '梅里雪山', 202: '三峡大坝', 203: '苏州古运河', 204: '澳门银河酒店影舞银光', 205: '孔庙和国子监博物馆', 206: '圣保罗大教堂遗址(大三巴牌坊)', 207: '碑林博物馆', 208: '九龙公园', 209: '昂坪360缆车', 210: '大明湖公园', 211: '五大道', 212: '束河古镇', 213: '洱海湖', 214: '胡雪岩故居', 215: '路环岛', 216: '中国国家博物馆', 217: '厦门大学', 218: '香港海防博物馆', 219: '尖东', 220: '大雁塔', 221: '香港科学馆', 222: '长江三峡', 223: '失落的空间水族馆', 224: '六榕寺和花塔', 225: '中山公园', 226: '平谷将军关长城', 227: '世纪公园', 228: '西溪湿地公园', 229: '三峡博物馆', 230: '后海', 231: 'COCO PARK', 232: '西安博物院', 233: '圆明园', 234: '新疆博物馆', 235: '桂林老寨山', 236: '赤柱', 237: '石室圣心大教堂', 238: '香港大球场', 239: '大澳', 240: '龙井茶田', 241: '沈阳故宫', 242: '深圳湾公园', 243: '杜甫草堂', 244: '南大屿郊野公园', 245: '尖沙咀海滨长廊', 246: '南京总统府', 247: '故宫角楼', 248: '珠江', 249: '南丫岛', 250: '朱家角古镇', 251: '翠湖', 252: '凤凰径', 253: '东望洋灯塔', 254: 'SoHo 荷南美食区', 255: '三峡', 256: '沙面岛', 257: '金鞭溪', 258: '西海大峡谷', 259: '苍山', 260: '复兴公园', 261: '嘉道理农场暨植物园', 262: '南普陀寺', 263: '趵突泉公园', 264: '澳门大熊猫馆', 265: '天子山云海', 266: '白云山', 267: '锦绣中华·民俗村', 268: '玉佛禅寺', 269: '西塘古镇', 270: '八大关', 271: '丽江木府', 272: '澳门历史城区', 273: '星海广场', 274: '大芬油画村', 275: '长洲岛', 276: '同里古镇', 277: '大雁塔北广场', 278: '留园', 279: '苏州博物馆', 280: '拉卜楞寺', 281: '陕西历史博物馆', 282: '虎丘', 283: '三亚千古情景区', 284: '平湖秋月', 285: '凤凰古城', 286: '石澳', 287: '午门', 288: '旧城', 289: '两江四湖景区', 290: '大馆', 291: \"Xi'an Urban Passer\", 292: '青岛啤酒博物馆', 293: '周庄水乡', 294: '798艺术区', 295: '新濠天地', 296: '太阳岛', 297: '苏堤春晓', 298: '清华大学', 299: '北京欢乐谷', 300: '武夷山风景区', 301: '明孝陵', 302: '平江路', 303: '珠海长隆海洋王国', 304: '武汉东湖', 305: '上海人文历史地貌区', 306: '汉阳陵', 307: '平遥城墙遗址', 308: '郑家大屋', 309: '尤德观鸟园', 310: '西湖花港观鱼公园', 311: '故宫珍宝馆', 312: '太子湾公园', 313: '圆通寺', 314: '上海文庙', 315: '祖庙', 316: '中国丽江古城', 317: '紫金山', 318: '东方明珠', 319: '网师园', 320: '豫园', 321: '南京城墙(明城墙)', 322: '武夷山九曲溪', 323: '香港文化博物馆', 324: '云南石林地质公园', 325: '金鸡湖', 326: '尖沙咀', 327: '广州地铁', 328: '香港海事博物馆', 329: '崂山自然风景区', 330: '瘦西湖', 331: '古北口长城', 332: '金茂大厦', 333: '冈仁波齐峰', 334: '狮子林', 335: '金沙遗址博物馆', 336: '都江堰水利工程', 337: '澳门旅游塔', 338: '上海城市历史发展陈列馆', 339: '中央大街步行街', 340: '鹿回头公园', 341: '大足石刻旅游景区', 342: '陈家祠', 343: '黄山地质公园', 344: '故宫九龙壁', 345: '乐山大佛', 346: '主教山', 347: '回坊风情街', 348: '鸣沙山', 349: '崇圣寺三塔', 350: '岳麓山', 351: '南山佛教文化园', 352: '故宫御花园', 353: '日月双塔文化公园', 354: '峨眉山', 355: '香港西贡', 356: '孤山', 357: '日月塔', 358: '欢乐海岸', 359: '文殊院', 360: '黄果树瀑布', 361: '玄武湖', 362: '昆明龙门', 363: '色拉寺', 364: '上海城市规划展示馆', 365: '鼓浪屿环岛路', 366: '中山陵', 367: '西汉南越王博物馆', 368: '普陀山', 369: '广州塔', 370: '青城山', 371: '灵山大佛', 372: '泰山', 373: '三亚珠江南田温泉', 374: '深圳地铁', 375: '蓝月谷', 376: '龙华寺', 377: '印象丽江', 378: '上海博物馆', 379: '杭州宋城', 380: '桂林千古情景区', 381: '宏村', 382: '广州图书馆', 383: '狮子亭观景台', 384: '乌镇', 385: '外滩城市雕塑群', 386: '珠江新城', 387: '万佛寺', 388: '南京博物院', 389: '颐和园长廊', 390: '松赞林寺', 391: '黄浦江', 392: '西安城墙', 393: '苏州古典园林', 394: '平安寨', 395: '长隆欢乐世界', 396: '花城广场', 397: \"Jerry's Guide & Driver Service\", 398: '玉龙雪山', 399: '平遥古城', 400: '北海公园', 401: '香港公园', 402: '上海自然博物馆(静安新馆)', 403: '上海环球金融中心', 404: '浦东新区', 405: '滨江大道', 406: '香港维多利亚海港', 407: '朝阳剧场', 408: '黄龙名胜风景区', 409: '青海湖', 410: '天际100香港观景台', 411: '天一阁', 412: '大屿山', 413: '景山公园', 414: '观光缆车', 415: '宝莲禅寺', 416: '西湖', 417: '上海宣传画艺术中心', 418: '深圳莲花山公园', 419: '虎跳峡', 420: '太和殿', 421: '香港历史博物馆', 422: '三清山', 423: '峨眉山金顶', 424: '颐和园佛香阁', 425: '云台山地质公园', 426: '雍和宫', 427: '长隆野生动物园', 428: '祈年殿', 429: '南山寺', 430: '国家大剧院', 431: '湖北省博物馆', 432: '飞来峰', 433: '哲蚌寺', 434: '华山', 435: '漓江景区', 436: '香港电车（叮叮车）', 437: '和平饭店'}\n"
     ]
    }
   ],
   "source": [
    "import csv\n",
    "\n",
    "# 将 csv 文件读为 Python 字典\n",
    "file_path = \"dataset/tours_truncated.csv\"\n",
    "import pandas as pd\n",
    "\n",
    "\n",
    "# 读取 CSV 文件并转换为字典\n",
    "df = pd.read_csv(file_path)\n",
    "data_dict = dict(zip(df[\"location_id\"], df[\"display_name\"]))\n",
    "\n",
    "# 打印字典\n",
    "print(data_dict)\n"
   ],
   "metadata": {
    "collapsed": false,
    "ExecuteTime": {
     "end_time": "2024-01-19T06:45:24.039473Z",
     "start_time": "2024-01-19T06:45:24.029562Z"
    }
   },
   "id": "e47a18df96fca4f8"
  },
  {
   "cell_type": "code",
   "execution_count": 68,
   "outputs": [
    {
     "data": {
      "text/plain": "['平遥古城',\n '北京欢乐谷',\n '南丫岛',\n '西湖',\n '香港海洋公园',\n '龟山公园',\n '朱家角古镇',\n '狮子林',\n '大足石刻旅游景区',\n '华清宫']"
     },
     "execution_count": 68,
     "metadata": {},
     "output_type": "execute_result"
    }
   ],
   "source": [
    "[data_dict[i] for i in user_recs]"
   ],
   "metadata": {
    "collapsed": false,
    "ExecuteTime": {
     "end_time": "2024-01-19T06:46:20.854722Z",
     "start_time": "2024-01-19T06:46:20.845219Z"
    }
   },
   "id": "d2149d5f29af2822"
  },
  {
   "cell_type": "code",
   "execution_count": null,
   "outputs": [],
   "source": [],
   "metadata": {
    "collapsed": false
   },
   "id": "ef2cba5a8b084b5"
  }
 ],
 "metadata": {
  "kernelspec": {
   "display_name": "Python 3",
   "language": "python",
   "name": "python3"
  },
  "language_info": {
   "codemirror_mode": {
    "name": "ipython",
    "version": 2
   },
   "file_extension": ".py",
   "mimetype": "text/x-python",
   "name": "python",
   "nbconvert_exporter": "python",
   "pygments_lexer": "ipython2",
   "version": "3.11.5"
  }
 },
 "nbformat": 4,
 "nbformat_minor": 5
}
