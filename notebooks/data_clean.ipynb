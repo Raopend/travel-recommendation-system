{
 "cells": [
  {
   "cell_type": "code",
   "execution_count": 7,
   "id": "initial_id",
   "metadata": {
    "collapsed": true,
    "ExecuteTime": {
     "end_time": "2024-01-19T06:18:19.938829Z",
     "start_time": "2024-01-19T06:18:19.934724Z"
    }
   },
   "outputs": [],
   "source": [
    "import pandas as pd"
   ]
  },
  {
   "cell_type": "code",
   "execution_count": 8,
   "outputs": [],
   "source": [
    "# 加载 josn 数据\n",
    "df = pd.read_json('dataset/items.jsonl', lines=True)"
   ],
   "metadata": {
    "collapsed": false,
    "ExecuteTime": {
     "end_time": "2024-01-19T06:18:20.179714Z",
     "start_time": "2024-01-19T06:18:20.098306Z"
    }
   },
   "id": "caddd564a26d5b6a"
  },
  {
   "cell_type": "code",
   "execution_count": 10,
   "outputs": [
    {
     "data": {
      "text/plain": "   location_id display_name  \\\n0            1        黄花城长城   \n1            2        拉萨大昭寺   \n2            3          八角街   \n3            4          亚龙湾   \n4            5         古北水镇   \n\n                                                 url  \\\n0  https://www.tripadvisor.cn/Attraction_Review-g...   \n1  https://www.tripadvisor.cn/Attraction_Review-g...   \n2  https://www.tripadvisor.cn/Attraction_Review-g...   \n3  https://www.tripadvisor.cn/Attraction_Review-g...   \n4  https://www.tripadvisor.cn/Attraction_Review-g...   \n\n                                         cover_image  reviews_count  \\\n0  https://dimg04.c-ctrip.com/images/02Y2o12000aj...           1192   \n1  https://dimg04.c-ctrip.com/images/02Y6m120009f...           1230   \n2  https://dimg04.c-ctrip.com/images/02Y0o120009f...            626   \n3  https://dimg04.c-ctrip.com/images/02Y5e120009f...           1646   \n4  https://dimg04.c-ctrip.com/images/02Y1n120008o...            331   \n\n        tags_desc                  address  review_rating  \\\n0           景点与地标   102209 中国 北京市 北郊约60公里处            4.5   \n1         圣地与宗教景点  850000 西藏自治区 拉萨市 城关区八角街            4.5   \n2      景点与地标,古迹徒步     851500 西藏自治区 拉萨市 城关区            4.5   \n3  水域,海滩与泳池俱乐部,海滩  572011 海南省 三亚市 田独镇六盘路附近            4.5   \n4            古迹徒步        中国 北京市 密云区司马台长城脚下            4.5   \n\n                                     feature_reviews  \n0  [长城的其他地方我都去过；他们有更多的游客，而且看起来比这个部分更适合旅游。\\n这几乎感觉就...  \n1  [大昭寺的外观照片，通常被认为是最神圣和最重要的寺庙。里面不允许拍照。寺内供奉着唐代文成公主...  \n2  [很有宗教氛围，去的时候天气很好，转经的人很多，有很多特色的卖旅游纪念品的小店，巷道里有很多...  \n3  [海滩很宽，人不多。如果说有什么地方可以享受大海和阳光，那就只有这里了！酒店价格昂贵（, 这...  \n4  [令人惊叹的小镇，到处都是溪流、美丽的花朵、可爱的商店和美味的食物。我喜欢挂在房子门上的花朵...  ",
      "text/html": "<div>\n<style scoped>\n    .dataframe tbody tr th:only-of-type {\n        vertical-align: middle;\n    }\n\n    .dataframe tbody tr th {\n        vertical-align: top;\n    }\n\n    .dataframe thead th {\n        text-align: right;\n    }\n</style>\n<table border=\"1\" class=\"dataframe\">\n  <thead>\n    <tr style=\"text-align: right;\">\n      <th></th>\n      <th>location_id</th>\n      <th>display_name</th>\n      <th>url</th>\n      <th>cover_image</th>\n      <th>reviews_count</th>\n      <th>tags_desc</th>\n      <th>address</th>\n      <th>review_rating</th>\n      <th>feature_reviews</th>\n    </tr>\n  </thead>\n  <tbody>\n    <tr>\n      <th>0</th>\n      <td>1</td>\n      <td>黄花城长城</td>\n      <td>https://www.tripadvisor.cn/Attraction_Review-g...</td>\n      <td>https://dimg04.c-ctrip.com/images/02Y2o12000aj...</td>\n      <td>1192</td>\n      <td>景点与地标</td>\n      <td>102209 中国 北京市 北郊约60公里处</td>\n      <td>4.5</td>\n      <td>[长城的其他地方我都去过；他们有更多的游客，而且看起来比这个部分更适合旅游。\\n这几乎感觉就...</td>\n    </tr>\n    <tr>\n      <th>1</th>\n      <td>2</td>\n      <td>拉萨大昭寺</td>\n      <td>https://www.tripadvisor.cn/Attraction_Review-g...</td>\n      <td>https://dimg04.c-ctrip.com/images/02Y6m120009f...</td>\n      <td>1230</td>\n      <td>圣地与宗教景点</td>\n      <td>850000 西藏自治区 拉萨市 城关区八角街</td>\n      <td>4.5</td>\n      <td>[大昭寺的外观照片，通常被认为是最神圣和最重要的寺庙。里面不允许拍照。寺内供奉着唐代文成公主...</td>\n    </tr>\n    <tr>\n      <th>2</th>\n      <td>3</td>\n      <td>八角街</td>\n      <td>https://www.tripadvisor.cn/Attraction_Review-g...</td>\n      <td>https://dimg04.c-ctrip.com/images/02Y0o120009f...</td>\n      <td>626</td>\n      <td>景点与地标,古迹徒步</td>\n      <td>851500 西藏自治区 拉萨市 城关区</td>\n      <td>4.5</td>\n      <td>[很有宗教氛围，去的时候天气很好，转经的人很多，有很多特色的卖旅游纪念品的小店，巷道里有很多...</td>\n    </tr>\n    <tr>\n      <th>3</th>\n      <td>4</td>\n      <td>亚龙湾</td>\n      <td>https://www.tripadvisor.cn/Attraction_Review-g...</td>\n      <td>https://dimg04.c-ctrip.com/images/02Y5e120009f...</td>\n      <td>1646</td>\n      <td>水域,海滩与泳池俱乐部,海滩</td>\n      <td>572011 海南省 三亚市 田独镇六盘路附近</td>\n      <td>4.5</td>\n      <td>[海滩很宽，人不多。如果说有什么地方可以享受大海和阳光，那就只有这里了！酒店价格昂贵（, 这...</td>\n    </tr>\n    <tr>\n      <th>4</th>\n      <td>5</td>\n      <td>古北水镇</td>\n      <td>https://www.tripadvisor.cn/Attraction_Review-g...</td>\n      <td>https://dimg04.c-ctrip.com/images/02Y1n120008o...</td>\n      <td>331</td>\n      <td>古迹徒步</td>\n      <td>中国 北京市 密云区司马台长城脚下</td>\n      <td>4.5</td>\n      <td>[令人惊叹的小镇，到处都是溪流、美丽的花朵、可爱的商店和美味的食物。我喜欢挂在房子门上的花朵...</td>\n    </tr>\n  </tbody>\n</table>\n</div>"
     },
     "execution_count": 10,
     "metadata": {},
     "output_type": "execute_result"
    }
   ],
   "source": [
    "# 将 location_id 重新从 1 开始编号\n",
    "df['location_id'] = range(1, len(df) + 1)\n",
    "df.head()"
   ],
   "metadata": {
    "collapsed": false,
    "ExecuteTime": {
     "end_time": "2024-01-19T06:20:18.978075Z",
     "start_time": "2024-01-19T06:20:18.969676Z"
    }
   },
   "id": "52f6353b949b3f74"
  },
  {
   "cell_type": "code",
   "execution_count": 11,
   "outputs": [],
   "source": [
    "df = df.head(437)"
   ],
   "metadata": {
    "collapsed": false,
    "ExecuteTime": {
     "end_time": "2024-01-19T06:20:38.050607Z",
     "start_time": "2024-01-19T06:20:38.045069Z"
    }
   },
   "id": "8bfb6b49b545b33b"
  },
  {
   "cell_type": "code",
   "execution_count": 12,
   "outputs": [],
   "source": [
    "df.to_csv('dataset/tours_truncated.csv', index=False)"
   ],
   "metadata": {
    "collapsed": false,
    "ExecuteTime": {
     "end_time": "2024-01-19T06:21:02.022485Z",
     "start_time": "2024-01-19T06:21:02.008946Z"
    }
   },
   "id": "563756ca6c60267a"
  },
  {
   "cell_type": "code",
   "execution_count": null,
   "outputs": [],
   "source": [],
   "metadata": {
    "collapsed": false
   },
   "id": "2eb255c925d8d95f"
  }
 ],
 "metadata": {
  "kernelspec": {
   "display_name": "Python 3",
   "language": "python",
   "name": "python3"
  },
  "language_info": {
   "codemirror_mode": {
    "name": "ipython",
    "version": 2
   },
   "file_extension": ".py",
   "mimetype": "text/x-python",
   "name": "python",
   "nbconvert_exporter": "python",
   "pygments_lexer": "ipython2",
   "version": "2.7.6"
  }
 },
 "nbformat": 4,
 "nbformat_minor": 5
}
