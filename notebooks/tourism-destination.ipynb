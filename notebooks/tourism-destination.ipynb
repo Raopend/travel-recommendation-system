{
 "cells": [
  {
   "cell_type": "code",
   "execution_count": 13,
   "id": "initial_id",
   "metadata": {
    "collapsed": true,
    "ExecuteTime": {
     "end_time": "2024-01-18T02:46:52.482599Z",
     "start_time": "2024-01-18T02:46:52.463821Z"
    }
   },
   "outputs": [],
   "source": [
    "from pyspark.sql import SparkSession\n",
    "from pyspark.sql.functions import col, expr, rank, countDistinct, count\n",
    "from pyspark.sql.window import Window\n",
    "from pyspark.ml.recommendation import ALS\n",
    "from pyspark.ml.evaluation import RegressionEvaluator\n",
    "from pyspark.ml.feature import StringIndexer\n",
    "from pyspark.ml.tuning import TrainValidationSplit, ParamGridBuilder, CrossValidator\n",
    "import pandas as pd"
   ]
  },
  {
   "cell_type": "code",
   "execution_count": 14,
   "outputs": [],
   "source": [
    "spark = SparkSession.builder.appName('tourism-destination').getOrCreate()"
   ],
   "metadata": {
    "collapsed": false,
    "ExecuteTime": {
     "end_time": "2024-01-18T02:46:52.521076Z",
     "start_time": "2024-01-18T02:46:52.478513Z"
    }
   },
   "id": "c3eb503a8a5fdde9"
  },
  {
   "cell_type": "code",
   "execution_count": 15,
   "outputs": [
    {
     "name": "stdout",
     "output_type": "stream",
     "text": [
      "-RECORD 0------------\n",
      " User_Id       | 1   \n",
      " Place_Id      | 179 \n",
      " Place_Ratings | 3   \n",
      "-RECORD 1------------\n",
      " User_Id       | 1   \n",
      " Place_Id      | 344 \n",
      " Place_Ratings | 2   \n",
      "-RECORD 2------------\n",
      " User_Id       | 1   \n",
      " Place_Id      | 5   \n",
      " Place_Ratings | 5   \n",
      "-RECORD 3------------\n",
      " User_Id       | 1   \n",
      " Place_Id      | 373 \n",
      " Place_Ratings | 3   \n",
      "-RECORD 4------------\n",
      " User_Id       | 1   \n",
      " Place_Id      | 101 \n",
      " Place_Ratings | 4   \n",
      "-RECORD 5------------\n",
      " User_Id       | 1   \n",
      " Place_Id      | 312 \n",
      " Place_Ratings | 2   \n",
      "-RECORD 6------------\n",
      " User_Id       | 1   \n",
      " Place_Id      | 258 \n",
      " Place_Ratings | 5   \n",
      "-RECORD 7------------\n",
      " User_Id       | 1   \n",
      " Place_Id      | 20  \n",
      " Place_Ratings | 4   \n",
      "-RECORD 8------------\n",
      " User_Id       | 1   \n",
      " Place_Id      | 154 \n",
      " Place_Ratings | 2   \n",
      "-RECORD 9------------\n",
      " User_Id       | 1   \n",
      " Place_Id      | 393 \n",
      " Place_Ratings | 5   \n",
      "-RECORD 10-----------\n",
      " User_Id       | 1   \n",
      " Place_Id      | 103 \n",
      " Place_Ratings | 3   \n",
      "-RECORD 11-----------\n",
      " User_Id       | 1   \n",
      " Place_Id      | 208 \n",
      " Place_Ratings | 5   \n",
      "-RECORD 12-----------\n",
      " User_Id       | 1   \n",
      " Place_Id      | 89  \n",
      " Place_Ratings | 3   \n",
      "-RECORD 13-----------\n",
      " User_Id       | 1   \n",
      " Place_Id      | 405 \n",
      " Place_Ratings | 5   \n",
      "-RECORD 14-----------\n",
      " User_Id       | 1   \n",
      " Place_Id      | 41  \n",
      " Place_Ratings | 5   \n",
      "-RECORD 15-----------\n",
      " User_Id       | 1   \n",
      " Place_Id      | 336 \n",
      " Place_Ratings | 4   \n",
      "-RECORD 16-----------\n",
      " User_Id       | 1   \n",
      " Place_Id      | 67  \n",
      " Place_Ratings | 4   \n",
      "-RECORD 17-----------\n",
      " User_Id       | 1   \n",
      " Place_Id      | 292 \n",
      " Place_Ratings | 3   \n",
      "-RECORD 18-----------\n",
      " User_Id       | 1   \n",
      " Place_Id      | 222 \n",
      " Place_Ratings | 3   \n",
      "-RECORD 19-----------\n",
      " User_Id       | 1   \n",
      " Place_Id      | 76  \n",
      " Place_Ratings | 2   \n",
      "only showing top 20 rows\n"
     ]
    }
   ],
   "source": [
    "df_landing = pd.read_csv('/Users/raopend/Workspace/travel-recommendation-system/notebooks/dataset/tourism_rating.csv')\n",
    "spark_df_landing =  spark.createDataFrame(df_landing) \n",
    "spark_df_landing.show(vertical=True)"
   ],
   "metadata": {
    "collapsed": false,
    "ExecuteTime": {
     "end_time": "2024-01-18T02:46:52.680782Z",
     "start_time": "2024-01-18T02:46:52.500164Z"
    }
   },
   "id": "a068e5109cb610b6"
  },
  {
   "cell_type": "code",
   "execution_count": 16,
   "outputs": [],
   "source": [
    "df_rec = spark_df_landing.select('User_Id', 'Place_Id', 'Place_Ratings').withColumnRenamed(\"User_Id\",\"userId\")\\\n",
    "                                                                 .withColumnRenamed(\"Place_Id\",\"itemId\")\\\n",
    "                                                                 .withColumnRenamed(\"Place_Ratings\",\"rating\")\n",
    "df_rec = df_rec.orderBy(\"userId\", \"itemId\")"
   ],
   "metadata": {
    "collapsed": false,
    "ExecuteTime": {
     "end_time": "2024-01-18T02:46:52.694888Z",
     "start_time": "2024-01-18T02:46:52.676296Z"
    }
   },
   "id": "f20c5a634b832243"
  },
  {
   "cell_type": "code",
   "execution_count": 17,
   "outputs": [],
   "source": [
    "popularity_df = df_rec.groupBy('itemId') \\\n",
    "                 .agg(count('*').alias('popularity')) \\\n",
    "                 .orderBy(col('popularity').desc())"
   ],
   "metadata": {
    "collapsed": false,
    "ExecuteTime": {
     "end_time": "2024-01-18T02:46:52.719889Z",
     "start_time": "2024-01-18T02:46:52.692443Z"
    }
   },
   "id": "a1b626e9431da195"
  },
  {
   "cell_type": "code",
   "execution_count": 18,
   "outputs": [],
   "source": [
    "user_window = Window.partitionBy(\"userId\").orderBy(col(\"itemId\").desc())\n",
    "df_rec = df_rec.withColumn(\"num_items\", expr(\"count(*) over (partition by userId)\"))\n"
   ],
   "metadata": {
    "collapsed": false,
    "ExecuteTime": {
     "end_time": "2024-01-18T02:46:52.731104Z",
     "start_time": "2024-01-18T02:46:52.709054Z"
    }
   },
   "id": "acb218ead46c4e48"
  },
  {
   "cell_type": "code",
   "execution_count": 19,
   "outputs": [],
   "source": [
    "# For example, 30% of items will be masked\n",
    "percent_items_to_mask = 0.3 \n",
    "# Determine the number of items to mask for each user\n",
    "df_rec_final = df_rec.withColumn(\"num_items_to_mask\", (col(\"num_items\") * percent_items_to_mask).cast(\"int\"))\n",
    "# Masks items for each user\n",
    "df_rec_final = df_rec_final.withColumn(\"item_rank\", rank().over(user_window))\n",
    "\n",
    "# Create a StringIndexer model to index the user ID column\n",
    "indexer_user = StringIndexer(inputCol='userId', outputCol='userIndex').setHandleInvalid(\"keep\")\n",
    "indexer_item = StringIndexer(inputCol='itemId', outputCol='itemIndex').setHandleInvalid(\"keep\")\n",
    "\n",
    "# Fit the indexer model to the data and transform the DataFrame\n",
    "df_rec_final = indexer_user.fit(df_rec_final).transform(df_rec_final)\n",
    "df_rec_final = indexer_item.fit(df_rec_final).transform(df_rec_final)\n",
    "\n",
    "# Convert the userIndex column to integer type\n",
    "df_rec_final = df_rec_final.withColumn('userIndex', df_rec_final['userIndex'].cast('integer'))\\\n",
    "               .withColumn('itemIndex', df_rec_final['itemIndex'].cast('integer'))\n",
    "\n",
    "train_df_rec = df_rec_final.filter(col(\"item_rank\") > col(\"num_items_to_mask\"))\n",
    "test_df_rec = df_rec_final.filter(col(\"item_rank\") <= col(\"num_items_to_mask\"))"
   ],
   "metadata": {
    "collapsed": false,
    "ExecuteTime": {
     "end_time": "2024-01-18T02:46:54.077506Z",
     "start_time": "2024-01-18T02:46:52.725249Z"
    }
   },
   "id": "ec277294e67d01c6"
  },
  {
   "cell_type": "code",
   "execution_count": 20,
   "outputs": [
    {
     "name": "stdout",
     "output_type": "stream",
     "text": [
      "+------+------+------+---------+-----------------+---------+---------+---------+\n",
      "|userId|itemId|rating|num_items|num_items_to_mask|item_rank|userIndex|itemIndex|\n",
      "+------+------+------+---------+-----------------+---------+---------+---------+\n",
      "|     1|   307|     4|       30|                9|       10|      199|       82|\n",
      "|     1|   302|     2|       30|                9|       11|      199|      137|\n",
      "|     1|   292|     3|       30|                9|       12|      199|      314|\n",
      "|     1|   265|     5|       30|                9|       13|      199|       21|\n",
      "|     1|   258|     5|       30|                9|       14|      199|      159|\n",
      "|     1|   246|     4|       30|                9|       15|      199|       66|\n",
      "|     1|   222|     3|       30|                9|       16|      199|      336|\n",
      "|     1|   208|     5|       30|                9|       17|      199|        4|\n",
      "|     1|   179|     3|       30|                9|       18|      199|      154|\n",
      "|     1|   154|     2|       30|                9|       19|      199|       95|\n",
      "|     1|   103|     3|       30|                9|       20|      199|       76|\n",
      "|     1|   101|     4|       30|                9|       21|      199|      148|\n",
      "|     1|    89|     3|       30|                9|       22|      199|       30|\n",
      "|     1|    76|     2|       30|                9|       23|      199|       94|\n",
      "|     1|    67|     4|       30|                9|       24|      199|      354|\n",
      "|     1|    48|     2|       30|                9|       25|      199|      326|\n",
      "|     1|    41|     5|       30|                9|       26|      199|       90|\n",
      "|     1|    21|     2|       30|                9|       27|      199|      129|\n",
      "|     1|    20|     4|       30|                9|       28|      199|      335|\n",
      "|     1|    15|     3|       30|                9|       29|      199|      125|\n",
      "+------+------+------+---------+-----------------+---------+---------+---------+\n"
     ]
    }
   ],
   "source": [
    "train_df_rec.show()"
   ],
   "metadata": {
    "collapsed": false,
    "ExecuteTime": {
     "end_time": "2024-01-18T02:47:20.083932Z",
     "start_time": "2024-01-18T02:47:19.555258Z"
    }
   },
   "id": "14758de8ac1c0e4c"
  },
  {
   "cell_type": "code",
   "execution_count": 21,
   "outputs": [
    {
     "name": "stderr",
     "output_type": "stream",
     "text": [
      "24/01/18 10:48:07 WARN InstanceBuilder: Failed to load implementation from:dev.ludovic.netlib.blas.JNIBLAS\n",
      "                                                                                \r"
     ]
    },
    {
     "name": "stdout",
     "output_type": "stream",
     "text": [
      "rank:  1\n",
      "MaxIter:  20\n",
      "RegParam:  0.15\n"
     ]
    }
   ],
   "source": [
    "# Configure the ALS model\n",
    "als = ALS(userCol='userIndex', itemCol='itemIndex', ratingCol='rating',\n",
    "          coldStartStrategy='drop', nonnegative=True)\n",
    "\n",
    "\n",
    "param_grid = ParamGridBuilder()\\\n",
    "             .addGrid(als.rank, [1, 20, 30])\\\n",
    "             .addGrid(als.maxIter, [20])\\\n",
    "             .addGrid(als.regParam, [.05, .15])\\\n",
    "             .build()\n",
    "evaluator = RegressionEvaluator(metricName='rmse', labelCol='rating', predictionCol='prediction')\n",
    "\n",
    "cv = CrossValidator(\n",
    "        estimator=als,\n",
    "        estimatorParamMaps=param_grid,\n",
    "        evaluator=evaluator,\n",
    "        numFolds=3)\n",
    "\n",
    "model = cv.fit(train_df_rec)\n",
    "\n",
    "best_model = model.bestModel\n",
    "print('rank: ', best_model.rank)\n",
    "print('MaxIter: ', best_model._java_obj.parent().getMaxIter())\n",
    "print('RegParam: ', best_model._java_obj.parent().getRegParam())"
   ],
   "metadata": {
    "collapsed": false,
    "ExecuteTime": {
     "end_time": "2024-01-18T02:49:10.789045Z",
     "start_time": "2024-01-18T02:48:03.552738Z"
    }
   },
   "id": "1b1b8b431670a32e"
  },
  {
   "cell_type": "code",
   "execution_count": 22,
   "outputs": [
    {
     "name": "stdout",
     "output_type": "stream",
     "text": [
      "Root Mean Squared Error (RMSE): 1.6368986356089679\n"
     ]
    }
   ],
   "source": [
    "model = als.fit(train_df_rec)\n",
    "\n",
    "# Generate predictions on the test data\n",
    "predictions = best_model.transform(test_df_rec)\n",
    "predictions = predictions.withColumn(\"prediction\", expr(\"CASE WHEN prediction < 1 THEN 1 WHEN prediction > 5 THEN 5 ELSE prediction END\"))\n",
    "\n",
    "evaluator = RegressionEvaluator(metricName='rmse', labelCol='rating', predictionCol='prediction')\n",
    "rmse = evaluator.evaluate(predictions)\n",
    "print(f'Root Mean Squared Error (RMSE): {rmse}')"
   ],
   "metadata": {
    "collapsed": false,
    "ExecuteTime": {
     "end_time": "2024-01-18T02:49:29.378421Z",
     "start_time": "2024-01-18T02:49:27.912803Z"
    }
   },
   "id": "cf96a2c8acdfe816"
  },
  {
   "cell_type": "code",
   "execution_count": 23,
   "outputs": [
    {
     "name": "stderr",
     "output_type": "stream",
     "text": [
      "                                                                                \r"
     ]
    }
   ],
   "source": [
    "from pyspark.mllib.evaluation import RankingMetrics\n",
    "from pyspark.sql.functions import col, collect_list\n",
    "\n",
    "# Convert the predictions DataFrame to include all predictions per user\n",
    "# Generate top-k recommendations for each user\n",
    "userRecs = best_model.recommendForAllUsers(100)  # Top-100 recommendations for each user\n",
    "\n",
    "# Prepare the input for RankingMetrics\n",
    "user_ground_truth = test_df_rec.groupby('userIndex').agg(collect_list('itemIndex').alias('ground_truth_items'))\n",
    "user_train_items = train_df_rec.groupby('userIndex').agg(collect_list('itemIndex').alias('train_items'))\n",
    "\n",
    "# Join the recommendations and ground truth data on the user ID\n",
    "user_eval = userRecs.join(user_ground_truth, on='userIndex').join(user_train_items, on='userIndex') \\\n",
    "    .select('userIndex', 'recommendations.itemIndex', 'ground_truth_items', 'train_items', 'recommendations.rating')\n",
    "user_eval = user_eval.toPandas()\n",
    "user_eval['itemIndex_filtered'] = user_eval.apply(lambda x:[b for (b,z) in zip(x.itemIndex, x.rating) if b not in x.train_items], axis=1)\n",
    "user_eval['rating_filtered'] = user_eval.apply(lambda x:[z for (b,z) in zip(x.itemIndex, x.rating) if b not in x.train_items], axis=1)"
   ],
   "metadata": {
    "collapsed": false,
    "ExecuteTime": {
     "end_time": "2024-01-18T02:49:37.271990Z",
     "start_time": "2024-01-18T02:49:35.567230Z"
    }
   },
   "id": "1e4fda00cdfb2275"
  },
  {
   "cell_type": "code",
   "execution_count": 24,
   "outputs": [
    {
     "data": {
      "text/plain": "     userIndex                                          itemIndex  \\\n0            0  [70, 380, 321, 378, 377, 203, 379, 282, 280, 2...   \n1            1  [70, 380, 321, 378, 377, 203, 379, 282, 280, 2...   \n2            2  [70, 380, 321, 378, 377, 203, 379, 282, 280, 2...   \n3            3  [70, 380, 321, 378, 377, 203, 379, 282, 280, 2...   \n4            4  [70, 380, 321, 378, 377, 203, 379, 282, 280, 2...   \n..         ...                                                ...   \n295        295  [70, 380, 321, 378, 377, 203, 379, 282, 280, 2...   \n296        296  [70, 380, 321, 378, 377, 203, 379, 282, 280, 2...   \n297        297  [70, 380, 321, 378, 377, 203, 379, 282, 280, 2...   \n298        298  [70, 380, 321, 378, 377, 203, 379, 282, 280, 2...   \n299        299  [70, 380, 321, 378, 377, 203, 379, 282, 280, 2...   \n\n                                    ground_truth_items  \\\n0    [91, 29, 397, 209, 395, 433, 429, 284, 283, 27...   \n1    [286, 53, 411, 24, 348, 420, 393, 168, 104, 16...   \n2    [243, 115, 91, 140, 171, 170, 204, 43, 281, 13...   \n3    [142, 289, 12, 286, 88, 394, 374, 168, 200, 1,...   \n4    [244, 142, 292, 54, 324, 112, 53, 28, 171, 283...   \n..                                                 ...   \n295                        [2, 74, 349, 140, 169, 137]   \n296                      [286, 413, 380, 53, 420, 394]   \n297                        [74, 73, 421, 325, 70, 420]   \n298                        [243, 91, 54, 412, 203, 84]   \n299                      [74, 174, 242, 172, 280, 103]   \n\n                                           train_items  \\\n0    [165, 164, 102, 426, 162, 21, 339, 67, 159, 13...   \n1    [366, 267, 196, 195, 265, 265, 190, 36, 36, 0,...   \n2    [51, 198, 371, 427, 164, 102, 99, 195, 194, 65...   \n3    [337, 130, 311, 363, 64, 64, 230, 35, 261, 261...   \n4    [374, 13, 167, 372, 9, 197, 162, 418, 6, 192, ...   \n..                                                 ...   \n295  [390, 134, 158, 7, 425, 365, 97, 263, 62, 34, ...   \n296  [200, 50, 365, 98, 263, 156, 127, 154, 79, 385...   \n297  [23, 103, 99, 20, 423, 0, 330, 303, 77, 149, 1...   \n298  [372, 166, 426, 161, 99, 266, 192, 97, 261, 30...   \n299  [368, 234, 37, 195, 333, 62, 308, 329, 385, 30...   \n\n                                                rating  \\\n0    [5.26589822769165, 5.209471702575684, 5.115672...   \n1    [3.9084765911102295, 3.866595506668091, 3.7969...   \n2    [5.068458080291748, 5.0141472816467285, 4.9238...   \n3    [5.758917808532715, 5.697208404541016, 5.59462...   \n4    [4.415762424468994, 4.368445873260498, 4.28978...   \n..                                                 ...   \n295  [3.5155069828033447, 3.477836847305298, 3.4152...   \n296  [5.281162261962891, 5.22457218170166, 5.130500...   \n297  [5.120181560516357, 5.065316677093506, 4.97411...   \n298  [4.828635215759277, 4.7768940925598145, 4.6908...   \n299  [5.205872535705566, 5.150089263916016, 5.05735...   \n\n                                    itemIndex_filtered  \\\n0    [70, 380, 321, 378, 377, 203, 379, 282, 280, 2...   \n1    [70, 380, 321, 378, 377, 203, 379, 282, 280, 2...   \n2    [70, 380, 321, 378, 377, 203, 379, 282, 280, 2...   \n3    [70, 380, 321, 378, 377, 203, 379, 282, 280, 2...   \n4    [70, 380, 321, 378, 377, 203, 379, 282, 280, 2...   \n..                                                 ...   \n295  [70, 380, 321, 378, 377, 203, 379, 282, 280, 2...   \n296  [70, 380, 321, 378, 377, 203, 379, 282, 280, 2...   \n297  [70, 380, 321, 378, 377, 203, 379, 282, 280, 2...   \n298  [70, 380, 321, 378, 377, 203, 379, 282, 280, 2...   \n299  [70, 380, 321, 378, 377, 203, 379, 282, 280, 2...   \n\n                                       rating_filtered  \n0    [5.26589822769165, 5.209471702575684, 5.115672...  \n1    [3.9084765911102295, 3.866595506668091, 3.7969...  \n2    [5.068458080291748, 5.0141472816467285, 4.9238...  \n3    [5.758917808532715, 5.697208404541016, 5.59462...  \n4    [4.415762424468994, 4.368445873260498, 4.28978...  \n..                                                 ...  \n295  [3.5155069828033447, 3.477836847305298, 3.4152...  \n296  [5.281162261962891, 5.22457218170166, 5.130500...  \n297  [5.120181560516357, 5.065316677093506, 4.97411...  \n298  [4.828635215759277, 4.7768940925598145, 4.6908...  \n299  [5.205872535705566, 5.150089263916016, 5.05735...  \n\n[300 rows x 7 columns]",
      "text/html": "<div>\n<style scoped>\n    .dataframe tbody tr th:only-of-type {\n        vertical-align: middle;\n    }\n\n    .dataframe tbody tr th {\n        vertical-align: top;\n    }\n\n    .dataframe thead th {\n        text-align: right;\n    }\n</style>\n<table border=\"1\" class=\"dataframe\">\n  <thead>\n    <tr style=\"text-align: right;\">\n      <th></th>\n      <th>userIndex</th>\n      <th>itemIndex</th>\n      <th>ground_truth_items</th>\n      <th>train_items</th>\n      <th>rating</th>\n      <th>itemIndex_filtered</th>\n      <th>rating_filtered</th>\n    </tr>\n  </thead>\n  <tbody>\n    <tr>\n      <th>0</th>\n      <td>0</td>\n      <td>[70, 380, 321, 378, 377, 203, 379, 282, 280, 2...</td>\n      <td>[91, 29, 397, 209, 395, 433, 429, 284, 283, 27...</td>\n      <td>[165, 164, 102, 426, 162, 21, 339, 67, 159, 13...</td>\n      <td>[5.26589822769165, 5.209471702575684, 5.115672...</td>\n      <td>[70, 380, 321, 378, 377, 203, 379, 282, 280, 2...</td>\n      <td>[5.26589822769165, 5.209471702575684, 5.115672...</td>\n    </tr>\n    <tr>\n      <th>1</th>\n      <td>1</td>\n      <td>[70, 380, 321, 378, 377, 203, 379, 282, 280, 2...</td>\n      <td>[286, 53, 411, 24, 348, 420, 393, 168, 104, 16...</td>\n      <td>[366, 267, 196, 195, 265, 265, 190, 36, 36, 0,...</td>\n      <td>[3.9084765911102295, 3.866595506668091, 3.7969...</td>\n      <td>[70, 380, 321, 378, 377, 203, 379, 282, 280, 2...</td>\n      <td>[3.9084765911102295, 3.866595506668091, 3.7969...</td>\n    </tr>\n    <tr>\n      <th>2</th>\n      <td>2</td>\n      <td>[70, 380, 321, 378, 377, 203, 379, 282, 280, 2...</td>\n      <td>[243, 115, 91, 140, 171, 170, 204, 43, 281, 13...</td>\n      <td>[51, 198, 371, 427, 164, 102, 99, 195, 194, 65...</td>\n      <td>[5.068458080291748, 5.0141472816467285, 4.9238...</td>\n      <td>[70, 380, 321, 378, 377, 203, 379, 282, 280, 2...</td>\n      <td>[5.068458080291748, 5.0141472816467285, 4.9238...</td>\n    </tr>\n    <tr>\n      <th>3</th>\n      <td>3</td>\n      <td>[70, 380, 321, 378, 377, 203, 379, 282, 280, 2...</td>\n      <td>[142, 289, 12, 286, 88, 394, 374, 168, 200, 1,...</td>\n      <td>[337, 130, 311, 363, 64, 64, 230, 35, 261, 261...</td>\n      <td>[5.758917808532715, 5.697208404541016, 5.59462...</td>\n      <td>[70, 380, 321, 378, 377, 203, 379, 282, 280, 2...</td>\n      <td>[5.758917808532715, 5.697208404541016, 5.59462...</td>\n    </tr>\n    <tr>\n      <th>4</th>\n      <td>4</td>\n      <td>[70, 380, 321, 378, 377, 203, 379, 282, 280, 2...</td>\n      <td>[244, 142, 292, 54, 324, 112, 53, 28, 171, 283...</td>\n      <td>[374, 13, 167, 372, 9, 197, 162, 418, 6, 192, ...</td>\n      <td>[4.415762424468994, 4.368445873260498, 4.28978...</td>\n      <td>[70, 380, 321, 378, 377, 203, 379, 282, 280, 2...</td>\n      <td>[4.415762424468994, 4.368445873260498, 4.28978...</td>\n    </tr>\n    <tr>\n      <th>...</th>\n      <td>...</td>\n      <td>...</td>\n      <td>...</td>\n      <td>...</td>\n      <td>...</td>\n      <td>...</td>\n      <td>...</td>\n    </tr>\n    <tr>\n      <th>295</th>\n      <td>295</td>\n      <td>[70, 380, 321, 378, 377, 203, 379, 282, 280, 2...</td>\n      <td>[2, 74, 349, 140, 169, 137]</td>\n      <td>[390, 134, 158, 7, 425, 365, 97, 263, 62, 34, ...</td>\n      <td>[3.5155069828033447, 3.477836847305298, 3.4152...</td>\n      <td>[70, 380, 321, 378, 377, 203, 379, 282, 280, 2...</td>\n      <td>[3.5155069828033447, 3.477836847305298, 3.4152...</td>\n    </tr>\n    <tr>\n      <th>296</th>\n      <td>296</td>\n      <td>[70, 380, 321, 378, 377, 203, 379, 282, 280, 2...</td>\n      <td>[286, 413, 380, 53, 420, 394]</td>\n      <td>[200, 50, 365, 98, 263, 156, 127, 154, 79, 385...</td>\n      <td>[5.281162261962891, 5.22457218170166, 5.130500...</td>\n      <td>[70, 380, 321, 378, 377, 203, 379, 282, 280, 2...</td>\n      <td>[5.281162261962891, 5.22457218170166, 5.130500...</td>\n    </tr>\n    <tr>\n      <th>297</th>\n      <td>297</td>\n      <td>[70, 380, 321, 378, 377, 203, 379, 282, 280, 2...</td>\n      <td>[74, 73, 421, 325, 70, 420]</td>\n      <td>[23, 103, 99, 20, 423, 0, 330, 303, 77, 149, 1...</td>\n      <td>[5.120181560516357, 5.065316677093506, 4.97411...</td>\n      <td>[70, 380, 321, 378, 377, 203, 379, 282, 280, 2...</td>\n      <td>[5.120181560516357, 5.065316677093506, 4.97411...</td>\n    </tr>\n    <tr>\n      <th>298</th>\n      <td>298</td>\n      <td>[70, 380, 321, 378, 377, 203, 379, 282, 280, 2...</td>\n      <td>[243, 91, 54, 412, 203, 84]</td>\n      <td>[372, 166, 426, 161, 99, 266, 192, 97, 261, 30...</td>\n      <td>[4.828635215759277, 4.7768940925598145, 4.6908...</td>\n      <td>[70, 380, 321, 378, 377, 203, 379, 282, 280, 2...</td>\n      <td>[4.828635215759277, 4.7768940925598145, 4.6908...</td>\n    </tr>\n    <tr>\n      <th>299</th>\n      <td>299</td>\n      <td>[70, 380, 321, 378, 377, 203, 379, 282, 280, 2...</td>\n      <td>[74, 174, 242, 172, 280, 103]</td>\n      <td>[368, 234, 37, 195, 333, 62, 308, 329, 385, 30...</td>\n      <td>[5.205872535705566, 5.150089263916016, 5.05735...</td>\n      <td>[70, 380, 321, 378, 377, 203, 379, 282, 280, 2...</td>\n      <td>[5.205872535705566, 5.150089263916016, 5.05735...</td>\n    </tr>\n  </tbody>\n</table>\n<p>300 rows × 7 columns</p>\n</div>"
     },
     "execution_count": 24,
     "metadata": {},
     "output_type": "execute_result"
    }
   ],
   "source": [
    "user_eval"
   ],
   "metadata": {
    "collapsed": false,
    "ExecuteTime": {
     "end_time": "2024-01-18T02:49:50.735992Z",
     "start_time": "2024-01-18T02:49:50.668547Z"
    }
   },
   "id": "765b57b9f2e6eb8"
  },
  {
   "cell_type": "code",
   "execution_count": null,
   "outputs": [],
   "source": [],
   "metadata": {
    "collapsed": false
   },
   "id": "b84c9b35a4b720b4"
  }
 ],
 "metadata": {
  "kernelspec": {
   "display_name": "Python 3",
   "language": "python",
   "name": "python3"
  },
  "language_info": {
   "codemirror_mode": {
    "name": "ipython",
    "version": 2
   },
   "file_extension": ".py",
   "mimetype": "text/x-python",
   "name": "python",
   "nbconvert_exporter": "python",
   "pygments_lexer": "ipython2",
   "version": "2.7.6"
  }
 },
 "nbformat": 4,
 "nbformat_minor": 5
}
